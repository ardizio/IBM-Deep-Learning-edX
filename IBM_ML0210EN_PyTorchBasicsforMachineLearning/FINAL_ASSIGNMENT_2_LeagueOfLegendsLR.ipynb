{
  "cells": [
    {
      "cell_type": "markdown",
      "metadata": {
        "id": "j9iYiNQ5PCL8"
      },
      "source": [
        "# Predicting League of Legends Match Outcomes with Logistic Regression"
      ]
    },
    {
      "cell_type": "markdown",
      "metadata": {
        "id": "x8WqdJ3JPCL_"
      },
      "source": [
        "In this lab you will learn how to use Logistic Regression to predict the outcome of League of Legends match using data from the first 10 minutes of the match. League of Legends is a 5v5 team based strategy game where the objective is to destroy the other team base. Our dataset has 38 features that contain data for each team and represents to top ~2.4% players in the world.\n",
        "\n",
        "* Data Preperation\n",
        "* Logistic Regression Class\n",
        "* Training\n",
        "* Results"
      ]
    },
    {
      "cell_type": "markdown",
      "metadata": {
        "id": "hecce8nUPCMA"
      },
      "source": [
        "## Data Preperation"
      ]
    },
    {
      "cell_type": "code",
      "execution_count": 2,
      "metadata": {
        "colab": {
          "base_uri": "https://localhost:8080/"
        },
        "id": "9x3ISxE2PCMB",
        "outputId": "20bd2f20-4486-434f-b816-2e09c02cbb4e"
      },
      "outputs": [
        {
          "output_type": "stream",
          "name": "stdout",
          "text": [
            "Requirement already satisfied: torch in /usr/local/lib/python3.10/dist-packages (2.0.1+cu118)\n",
            "Requirement already satisfied: filelock in /usr/local/lib/python3.10/dist-packages (from torch) (3.12.2)\n",
            "Requirement already satisfied: typing-extensions in /usr/local/lib/python3.10/dist-packages (from torch) (4.7.1)\n",
            "Requirement already satisfied: sympy in /usr/local/lib/python3.10/dist-packages (from torch) (1.11.1)\n",
            "Requirement already satisfied: networkx in /usr/local/lib/python3.10/dist-packages (from torch) (3.1)\n",
            "Requirement already satisfied: jinja2 in /usr/local/lib/python3.10/dist-packages (from torch) (3.1.2)\n",
            "Requirement already satisfied: triton==2.0.0 in /usr/local/lib/python3.10/dist-packages (from torch) (2.0.0)\n",
            "Requirement already satisfied: cmake in /usr/local/lib/python3.10/dist-packages (from triton==2.0.0->torch) (3.25.2)\n",
            "Requirement already satisfied: lit in /usr/local/lib/python3.10/dist-packages (from triton==2.0.0->torch) (16.0.6)\n",
            "Requirement already satisfied: MarkupSafe>=2.0 in /usr/local/lib/python3.10/dist-packages (from jinja2->torch) (2.1.3)\n",
            "Requirement already satisfied: mpmath>=0.19 in /usr/local/lib/python3.10/dist-packages (from sympy->torch) (1.3.0)\n"
          ]
        },
        {
          "output_type": "execute_result",
          "data": {
            "text/plain": [
              "<torch._C.Generator at 0x7f5b800c6170>"
            ]
          },
          "metadata": {},
          "execution_count": 2
        }
      ],
      "source": [
        "!pip install torch\n",
        "import torch\n",
        "import pandas as pd\n",
        "import torch.nn as nn\n",
        "from torch.utils.data import Dataset, DataLoader\n",
        "import matplotlib.pylab as plt\n",
        "torch.manual_seed(0)"
      ]
    },
    {
      "cell_type": "markdown",
      "metadata": {
        "id": "WfA6DAWsPCMC"
      },
      "source": [
        "### About the Data"
      ]
    },
    {
      "cell_type": "markdown",
      "metadata": {
        "id": "iXkvpOI2PCMD"
      },
      "source": [
        "The dataset contains 39 columns, 19 for each team and 1 for the target, so we will explain the meaning of each column for a single team because they are the same but reversed for each set and the target. The data will be standardized in the dataset class."
      ]
    },
    {
      "cell_type": "markdown",
      "metadata": {
        "id": "-SlUAIrTPCMD"
      },
      "source": [
        "|  Field    |      Description      |  Unit |  Type  |\n",
        "|-----------|:-------------:|------:|--------:|\n",
        "|  blueWins |  This is our target and tell us who won the game. 1 if the blue team won and 0 if the red team won  |  1/0  |  int  |\n",
        "|  blueWardsPlaced |  Number of wards (item that gives vision) that were placed by the blue team  |  Wards  |  int  |\n",
        "|  blueWardsDestroyed |  Number of wards (item that gives vision) that were placed by the red team and destroyed by the blue team  |  Wards  |  int  |\n",
        "|  blueFirstBlood |  Tells us who got the first kill of the game. 1 for blue and 0 for red   |  1/0  |  int  |\n",
        "|  blueKills |  Number of times the blue team killed someone in the red team  |  Kills  |  int  |\n",
        "|  blueDeaths |  Number of times any player from the blue team has died either from the red team or jungle (neutral monsters)  |  Deaths  |  int  |\n",
        "|  blueAssists |  Total number of assists each player in the blue team had. An assist is when a player helps another play kill and enemy in the red team  |  Assists  |  int  |\n",
        "|  blueEliteMonsters |  Number of elite monsters killed by the blue team  |  Kills  |  int  |\n",
        "|  blueDragons |  Number of dragons killed by the blue team  | Kills   |  int  |\n",
        "|  blueHeralds |  Number of heralds killed by the blue team  |  Kills  |  int  |\n",
        "|  blueTowersDestroyed |  Number of towers belonging to the red team destroyed by the blue team  |  Towers  |  int  |\n",
        "|  blueTotalGold |  Total amount of gold each player in the blue team has  |  Gold  |  int  |\n",
        "|  blueAvgLevel |  Avg Champion level of the blue team  |  Level  |  float  |\n",
        "|  blueTotalExperience |  Total amount of experience each player in the blue team has  |  Experience  |  int  |\n",
        "|  blueTotalMinionsKilled |  Total amount of minions killed by each player in the blue team  |  Kills  |  int  |\n",
        "|  blueTotalJungleMinionsKilled |  Total amount of jungle monsters killed by each player in the blue team  |  Kills  |  int  |\n",
        "|  blueGoldDiff |  Difference between the total gold of the red and blue team  |  Gold  |  int  |\n",
        "|  blueExperienceDiff |  Difference between the total experience of the red and blue team  |  Experience  |  int  |\n",
        "|  blueCSPerMin |  Number of minions or jungle monsters killed per minute  |  Kills/Min  |  float  |\n",
        "|  blueGoldPerMin |  How much gold the team receives per minute  |  Gold/Min  |  float  |\n"
      ]
    },
    {
      "cell_type": "markdown",
      "metadata": {
        "id": "p1q2uxDVPCME"
      },
      "source": [
        "### Dataset Class"
      ]
    },
    {
      "cell_type": "code",
      "execution_count": 3,
      "metadata": {
        "id": "JkBWoeuHPCME"
      },
      "outputs": [],
      "source": [
        "class Dataset(Dataset):\n",
        "\n",
        "    # Constructor\n",
        "    def __init__(self, train = True):\n",
        "\n",
        "        data = pd.read_csv('https://s3.us.cloud-object-storage.appdomain.cloud/cf-courses-data/CognitiveClass/DL0110EN/ML03210EN_Final_Assignment/LoLMatchData.csv')\n",
        "\n",
        "        if (train):\n",
        "            self.x = torch.tensor(data.iloc[0:7903, :].drop(['blueWins'], axis=1).values, dtype=torch.float)\n",
        "            # standardizing the data\n",
        "            self.x = (self.x - self.x.mean(dim=0))/self.x.std(dim=0)\n",
        "            self.y = torch.tensor(data.loc[0:7903, 'blueWins'].values, dtype=torch.float).reshape((7904,1))\n",
        "            self.len = self.x.shape[0]\n",
        "        else:\n",
        "            self.x = torch.tensor(data.iloc[7904:, :].drop(['blueWins'], axis=1).values, dtype=torch.float)\n",
        "            # standardizing the data\n",
        "            self.x = (self.x - self.x.mean(dim=0))/self.x.std(dim=0)\n",
        "            self.y = torch.tensor(data.loc[7904:, 'blueWins'].values, dtype=torch.float).reshape((1975,1))\n",
        "            self.len = self.x.shape[0]\n",
        "\n",
        "\n",
        "    # Get the length\n",
        "    def __len__(self):\n",
        "        return self.len\n",
        "\n",
        "    # Getter\n",
        "    def __getitem__(self, idx):\n",
        "\n",
        "        x = self.x[idx]\n",
        "\n",
        "        y = self.y[idx]\n",
        "\n",
        "        return x, y"
      ]
    },
    {
      "cell_type": "markdown",
      "metadata": {
        "id": "pda9VmFDPCMF"
      },
      "source": [
        "### Question 1"
      ]
    },
    {
      "cell_type": "markdown",
      "metadata": {
        "id": "veupPdKLPCMG"
      },
      "source": [
        "Using the Dataset class defined above create dataset object for training and testing data called data_train and data_test. Remember to set the train parameter to the correct value."
      ]
    },
    {
      "cell_type": "code",
      "execution_count": 4,
      "metadata": {
        "id": "IsoBp9OUPCMG"
      },
      "outputs": [],
      "source": [
        "# Create dataset object for training data\n",
        "data_train = Dataset(train=True)\n",
        "\n",
        "# Create dataset object for testing data\n",
        "data_test = Dataset(train=False)\n"
      ]
    },
    {
      "cell_type": "markdown",
      "metadata": {
        "id": "xmJlroK7PCMH"
      },
      "source": [
        "### Question 2"
      ]
    },
    {
      "cell_type": "markdown",
      "metadata": {
        "id": "TSvJ5lJwPCMH"
      },
      "source": [
        "Using the Dataset objects created above create data loaders for each dataset called train_loader and test_loader. Set the batch_size parameter to 100."
      ]
    },
    {
      "cell_type": "code",
      "execution_count": 5,
      "metadata": {
        "id": "FpAitzUgPCMH"
      },
      "outputs": [],
      "source": [
        "# Create data loader for training data\n",
        "train_loader = DataLoader(dataset=data_train, batch_size=100)\n",
        "\n",
        "# Create data loader for testing data\n",
        "test_loader = DataLoader(dataset=data_test, batch_size=100)"
      ]
    },
    {
      "cell_type": "markdown",
      "metadata": {
        "id": "el6s6cPZPCMI"
      },
      "source": [
        "## Logistic Regression Class"
      ]
    },
    {
      "cell_type": "markdown",
      "metadata": {
        "id": "uijy2e6uPCMI"
      },
      "source": [
        "Defined below is our Logistic Regression class which will basically perform linear regression using the linear layer and then using the sigmoid activation function we can perform logistic regression."
      ]
    },
    {
      "cell_type": "code",
      "execution_count": 7,
      "metadata": {
        "id": "Ey9XkT5uPCMI"
      },
      "outputs": [],
      "source": [
        "class LogisticRegression(nn.Module):\n",
        "\n",
        "    def __init__(self, input_dimension, output_dimension):\n",
        "        super(LogisticRegression, self).__init__()\n",
        "        self.linear = nn.Linear(input_dimension, output_dimension)\n",
        "\n",
        "    def forward(self, x):\n",
        "        x = torch.sigmoid(self.linear(x))\n",
        "        return x"
      ]
    },
    {
      "cell_type": "code",
      "execution_count": 8,
      "metadata": {
        "id": "RtcXiAa7PCMJ"
      },
      "outputs": [],
      "source": [
        "model = LogisticRegression(38, 1)"
      ]
    },
    {
      "cell_type": "markdown",
      "metadata": {
        "id": "noXEwUyzPCMJ"
      },
      "source": [
        "## Training"
      ]
    },
    {
      "cell_type": "markdown",
      "metadata": {
        "id": "Cfy3T4YvPCMJ"
      },
      "source": [
        "### Optimizer and Loss Function"
      ]
    },
    {
      "cell_type": "markdown",
      "metadata": {
        "id": "TxxNfrA6PCMJ"
      },
      "source": [
        "### Question 3"
      ]
    },
    {
      "cell_type": "markdown",
      "metadata": {
        "id": "myN84BV2PCMK"
      },
      "source": [
        "Before we can get to training we must define the optimizer and the loss function we will use to train our model. Please create an optimizer called optimizer that uses SGD with a learning rate of .001 and a loss function called criterion that uses BCELoss."
      ]
    },
    {
      "cell_type": "code",
      "execution_count": 9,
      "metadata": {
        "id": "u5o40eD0PCMK"
      },
      "outputs": [],
      "source": [
        "# Define the optimizer\n",
        "optimizer = torch.optim.SGD(model.parameters(), lr=0.001)\n",
        "\n",
        "# Define the loss function\n",
        "criterion = nn.BCELoss()\n"
      ]
    },
    {
      "cell_type": "markdown",
      "metadata": {
        "id": "_IdeyzolPCMK"
      },
      "source": [
        "### Training Function"
      ]
    },
    {
      "cell_type": "code",
      "execution_count": 10,
      "metadata": {
        "id": "prtKUGTRPCMK"
      },
      "outputs": [],
      "source": [
        "def train(model, optimizer, criterion, train_loader, test_loader, epochs):\n",
        "    cost_list = []\n",
        "    accuracy_list = []\n",
        "\n",
        "    for epoch in range(epochs):\n",
        "\n",
        "        # variable to keep track of cost (total loss)\n",
        "        cost = 0\n",
        "        model.train()\n",
        "\n",
        "        for x, y in train_loader:\n",
        "\n",
        "            # clears gradients from last step\n",
        "            optimizer.zero_grad()\n",
        "\n",
        "            # uses model to predict target for x\n",
        "            z = model(x)\n",
        "\n",
        "            # calculates loss between prediction and ground truth\n",
        "            loss = criterion(z, y)\n",
        "\n",
        "            # calculates the derivative of the loss with respect to each parameter\n",
        "            loss.backward()\n",
        "\n",
        "            # updates each parameter using the optimizer algorithm and values calculated from loss.backward()\n",
        "            optimizer.step()\n",
        "\n",
        "            # increment cost\n",
        "            cost += loss.item()\n",
        "\n",
        "        # variable to keep track of correct prediction in the test set\n",
        "        correct = 0\n",
        "        model.eval()\n",
        "\n",
        "        for x_test, y_test in test_loader:\n",
        "\n",
        "            # uses model to predict target for x_test\n",
        "            z = model(x_test)\n",
        "\n",
        "            # rounds the output to the nearest int because our target is either 0 or 1 and the output is a probability between 0 and 1\n",
        "            z = torch.round(z)\n",
        "\n",
        "            # find our how many in the batch were corrent and adds it to the total for the epoch\n",
        "            correct += (z == y_test).sum().item()\n",
        "\n",
        "        # calculates the accuracy rate in the test data\n",
        "        accuracy = correct / len(data_test)\n",
        "\n",
        "        # appends the accuracy and cost to the list to keep track\n",
        "        accuracy_list.append(accuracy)\n",
        "        cost_list.append(cost)\n",
        "\n",
        "    return accuracy_list, cost_list\n",
        ""
      ]
    },
    {
      "cell_type": "markdown",
      "metadata": {
        "id": "wVHH0D-tPCML"
      },
      "source": [
        "### Question 4"
      ]
    },
    {
      "cell_type": "markdown",
      "metadata": {
        "id": "avep3UUyPCML"
      },
      "source": [
        "Using the training function defined above, the model, criterion, and optimizer that you created before train the model for 10 epochs. Save the accuracy and cost returned to lists called accuracy_list and cost_list."
      ]
    },
    {
      "cell_type": "code",
      "execution_count": 11,
      "metadata": {
        "id": "rJut4O2uPCMM"
      },
      "outputs": [],
      "source": [
        "# Train the model for 10 epochs\n",
        "accuracy_list, cost_list = train(model, optimizer, criterion, train_loader, test_loader, epochs=10)\n"
      ]
    },
    {
      "cell_type": "markdown",
      "metadata": {
        "id": "Zy4UPZqGPCMM"
      },
      "source": [
        "## Results"
      ]
    },
    {
      "cell_type": "code",
      "execution_count": 12,
      "metadata": {
        "colab": {
          "base_uri": "https://localhost:8080/",
          "height": 487
        },
        "id": "t7Fry3p3PCMM",
        "outputId": "f1329880-2797-4331-e012-5a997ab1bcf7"
      },
      "outputs": [
        {
          "output_type": "display_data",
          "data": {
            "text/plain": [
              "<Figure size 640x480 with 2 Axes>"
            ],
            "image/png": "[encoded data removed]"
          },
          "metadata": {}
        }
      ],
      "source": [
        "fig, ax1 = plt.subplots()\n",
        "color = 'tab:red'\n",
        "ax1.plot(cost_list, color=color)\n",
        "ax1.set_xlabel('epoch', color=color)\n",
        "ax1.set_ylabel('Cost', color=color)\n",
        "ax1.tick_params(axis='y', color=color)\n",
        "\n",
        "ax2 = ax1.twinx()\n",
        "color = 'tab:blue'\n",
        "ax2.set_ylabel('accuracy', color=color)\n",
        "ax2.set_xlabel('epoch', color=color)\n",
        "ax2.plot( accuracy_list, color=color)\n",
        "ax2.tick_params(axis='y', color=color)\n",
        "fig.tight_layout()"
      ]
    }
  ],
  "metadata": {
    "kernelspec": {
      "display_name": "Python",
      "language": "python",
      "name": "conda-env-python-py"
    },
    "language_info": {
      "codemirror_mode": {
        "name": "ipython",
        "version": 3
      },
      "file_extension": ".py",
      "mimetype": "text/x-python",
      "name": "python",
      "nbconvert_exporter": "python",
      "pygments_lexer": "ipython3",
      "version": "3.6.10"
    },
    "colab": {
      "provenance": []
    }
  },
  "nbformat": 4,
  "nbformat_minor": 0
}