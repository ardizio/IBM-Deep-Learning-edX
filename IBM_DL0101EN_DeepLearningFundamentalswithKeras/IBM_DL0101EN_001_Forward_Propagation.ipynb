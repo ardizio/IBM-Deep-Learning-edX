{
  "cells": [
    {
      "cell_type": "markdown",
      "metadata": {
        "id": "AGGUnMMUMnzL"
      },
      "source": [
        "## Introduction\n"
      ]
    },
    {
      "cell_type": "markdown",
      "metadata": {
        "id": "TYOkGSlTMnzM"
      },
      "source": [
        "In this lab, we will build a neural network from scratch and code how it performs predictions using forward propagation. Please note that all deep learning libraries have the entire training and prediction processes implemented, and so in practice you wouldn't really need to build a neural network from scratch. However, hopefully completing this lab will help you understand neural networks and how they work even better.\n"
      ]
    },
    {
      "cell_type": "markdown",
      "metadata": {
        "id": "GnUqneFBMnzM"
      },
      "source": [
        "<h2>Artificial Neural Networks - Forward Propagation</h2>\n",
        "\n",
        "<h3>Objective for this Notebook<h3>    \n",
        "<h5> 1. Initalize a Network</h5>\n",
        "<h5> 2. Compute Weighted Sum at Each Node. </h5>\n",
        "<h5> 3. Compute Node Activation </h5>\n",
        "<h5> 4. Access your <b>Flask</b> app via a webpage anywhere using a custom link. </h5>     \n",
        "\n"
      ]
    },
    {
      "cell_type": "markdown",
      "metadata": {
        "id": "5rCVexclMnzM"
      },
      "source": [
        "## Table of Contents\n",
        "\n",
        "<div class=\"alert alert-block alert-info\" style=\"margin-top: 20px\">\n",
        "\n",
        "<font size = 3>    \n",
        "\n",
        "1. <a href=\"#item11\">Recap</a>\n",
        "2. <a href=\"#item12\">Initalize a Network</a>  \n",
        "3. <a href=\"#item13\">Compute Weighted Sum at Each Node</a>  \n",
        "4. <a href=\"#item14\">Compute Node Activation</a>  \n",
        "5. <a href=\"#item15\">Forward Propagation</a>\n",
        "\n",
        "</font>\n",
        "    \n",
        "</div>\n"
      ]
    },
    {
      "cell_type": "markdown",
      "metadata": {
        "id": "Ea1T6Q19MnzO"
      },
      "source": [
        "<a id='item11'></a>\n"
      ]
    },
    {
      "cell_type": "code",
      "source": [
        "try:\n",
        "    import numpy\n",
        "    print(\"NumPy is installed.\")\n",
        "except ImportError:\n",
        "    print(\"NumPy is not installed.\")\n",
        "    !pip install numpy==1.21.4\n",
        "#check in python if numpy is installed and show version"
      ],
      "metadata": {
        "colab": {
          "base_uri": "https://localhost:8080/"
        },
        "id": "CXe5EQLcPW-y",
        "outputId": "f3846a71-fe40-4868-ab1c-49016f67f547"
      },
      "execution_count": null,
      "outputs": [
        {
          "output_type": "stream",
          "name": "stdout",
          "text": [
            "NumPy is installed.\n"
          ]
        }
      ]
    },
    {
      "cell_type": "markdown",
      "metadata": {
        "id": "AOTOEQZwMnzO"
      },
      "source": [
        "# Recap\n"
      ]
    },
    {
      "cell_type": "markdown",
      "metadata": {
        "id": "5QXAi58aMnzP"
      },
      "source": [
        "From the videos, let's recap how a neural network makes predictions through the forward propagation process. Here is a neural network that takes two inputs, has one hidden layer with two nodes, and an output layer with one node.\n"
      ]
    },
    {
      "cell_type": "markdown",
      "metadata": {
        "id": "3i9xL0bOMnzP"
      },
      "source": [
        "<img src=\"http://cocl.us/neural_network_example\" alt=\"Neural Network Example\" width=\"600px\">\n"
      ]
    },
    {
      "cell_type": "markdown",
      "metadata": {
        "id": "gf46xcj3MnzQ"
      },
      "source": [
        "Let's start by randomly initializing the weights and the biases in the network. We have 6 weights and 3 biases, one for each node in the hidden layer as well as for each node in the output layer.\n"
      ]
    },
    {
      "cell_type": "code",
      "execution_count": null,
      "metadata": {
        "id": "4kipX_AdMnzQ"
      },
      "outputs": [],
      "source": [
        "# All Libraries required for this lab are listed below. The libraries pre-installed on Skills Network Labs are commented.\n",
        "# If you run this notebook on a different environment, e.g. your desktop, you may need to uncomment and install certain libraries.\n",
        "\n",
        "#!pip install numpy==1.21.4"
      ]
    },
    {
      "cell_type": "code",
      "execution_count": null,
      "metadata": {
        "id": "vwyOGSMrMnzS"
      },
      "outputs": [],
      "source": [
        "import numpy as np # import Numpy library to generate\n",
        "\n",
        "# Creo w e b random\n",
        "weights = np.around(np.random.uniform(size=6), decimals=2) # initialize the weights\n",
        "biases = np.around(np.random.uniform(size=3), decimals=2) # initialize the biases"
      ]
    },
    {
      "cell_type": "code",
      "execution_count": null,
      "metadata": {
        "colab": {
          "base_uri": "https://localhost:8080/"
        },
        "id": "vELqXDEQMnzT",
        "outputId": "a82b593a-7288-4393-82cb-de90e29dab9d"
      },
      "outputs": [
        {
          "output_type": "stream",
          "name": "stdout",
          "text": [
            "[0.23 0.52 0.99 0.79 0.54 0.12]\n",
            "[0.62 0.52 0.42]\n"
          ]
        }
      ],
      "source": [
        "# leggo i valori generati\n",
        "print(weights)\n",
        "print(biases)"
      ]
    },
    {
      "cell_type": "markdown",
      "metadata": {
        "id": "AbccybysMnzT"
      },
      "source": [
        "Now that we have the weights and the biases defined for the network,\n",
        "\n",
        "---\n",
        "\n",
        "let's compute the output for a given input, $x_1$ and $x_2$.\n"
      ]
    },
    {
      "cell_type": "code",
      "execution_count": null,
      "metadata": {
        "colab": {
          "base_uri": "https://localhost:8080/"
        },
        "id": "Jdi0giHCMnzU",
        "outputId": "25dd3cf9-4478-45b8-d981-97f0c54eb2d8"
      },
      "outputs": [
        {
          "output_type": "stream",
          "name": "stdout",
          "text": [
            "Show inputs: x1 is 0.5 and x2 is 0.85\n"
          ]
        }
      ],
      "source": [
        "# INPUT LAYER\n",
        "x_1 = 0.5 # input 1\n",
        "x_2 = 0.85 # input 2\n",
        "print('Show inputs: x1 is {} and x2 is {}'.format(x_1, x_2))"
      ]
    },
    {
      "cell_type": "markdown",
      "metadata": {
        "id": "siIsmjNOMnzU"
      },
      "source": [
        "Let's start by computing the wighted sum of the inputs, $z_{1, 1}$, at the first node of the hidden layer.\n"
      ]
    },
    {
      "cell_type": "code",
      "execution_count": null,
      "metadata": {
        "colab": {
          "base_uri": "https://localhost:8080/"
        },
        "id": "mcYYO8vDMnzV",
        "outputId": "f9834da0-243b-4810-ea0b-2490f20805c5"
      },
      "outputs": [
        {
          "output_type": "stream",
          "name": "stdout",
          "text": [
            "z_11 1.177\n",
            "z_12 1.6865\n"
          ]
        }
      ],
      "source": [
        "# HIDDEN LAYERS\n",
        "z_11 = x_1 * weights[0] + x_2 * weights[1] + biases[0]\n",
        "print('z_11 {}'.format(z_11))\n",
        "z_12 = x_1 * weights[2] + x_2 * weights[3] + biases[1]\n",
        "print('z_12 {}'.format(z_12))\n",
        "# print('The weighted sum of the inputs at the second node in the hidden layer is {}'.format(np.around(z_12, decimals=4)))"
      ]
    },
    {
      "cell_type": "markdown",
      "metadata": {
        "id": "qDuNDExUMnzW"
      },
      "source": [
        "Print the weighted sum.\n"
      ]
    },
    {
      "cell_type": "markdown",
      "metadata": {
        "id": "_qTSiX1lMnzX"
      },
      "source": [
        "Next, assuming a sigmoid activation function, let's compute the activation of the first node, $a_{1, 1}$, in the hidden layer.\n"
      ]
    },
    {
      "cell_type": "code",
      "execution_count": null,
      "metadata": {
        "colab": {
          "base_uri": "https://localhost:8080/"
        },
        "id": "LCiAwxsxMnzX",
        "outputId": "50f4fdb1-df15-49b5-be68-806eac355fa5"
      },
      "outputs": [
        {
          "output_type": "stream",
          "name": "stdout",
          "text": [
            "The activation of the first node in the hidden layer is 0.7644\n"
          ]
        }
      ],
      "source": [
        "# Sigmoid Activation Function\n",
        "a_11 = 1.0 / (1.0 + np.exp(-z_11))\n",
        "a_12 = 1.0 / (1.0 + np.exp(-z_12))\n",
        "print('The activation of the first node in the hidden layer is {}'.format(np.around(a_11, decimals=4)))\n",
        "print('The activation of the second node in the hidden layer is {}'.format(np.around(a_12, decimals=4)))"
      ]
    },
    {
      "cell_type": "markdown",
      "metadata": {
        "id": "ktGD_P89Mnzc"
      },
      "source": [
        "Now these activations will serve as the inputs to the output layer. So, let's compute the weighted sum of these inputs to the node in the output layer. Assign the value to **z_2**.\n"
      ]
    },
    {
      "cell_type": "code",
      "execution_count": null,
      "metadata": {
        "id": "VstnSBqUMnzc"
      },
      "outputs": [],
      "source": [
        "# OUTPUT\n",
        "z_2 = a_11 * weights[4] + a_12 * weights[5] + biases[2]\n",
        "print('The weighted sum of the inputs at the node in the output layer is {}'.format(np.around(z_2, decimals=4)))"
      ]
    },
    {
      "cell_type": "markdown",
      "metadata": {
        "id": "TPagM3sDMnze"
      },
      "source": [
        "Finally, let's compute the output of the network as the activation of the node in the output layer. Assign the value to **a_2**.\n"
      ]
    },
    {
      "cell_type": "code",
      "execution_count": null,
      "metadata": {
        "id": "5bF8mtvwMnzf"
      },
      "outputs": [],
      "source": [
        "# COMPUTING Output Layer\n",
        "a_2 = 1.0 / (1.0 + np.exp(-z_2))\n",
        "# Print the activation of the node in the output layer which is equivalent to the prediction made by the network.\n",
        "print('The output of the network for x1 = 0.5 and x2 = 0.85 is {}'.format(np.around(a_2, decimals=4)))"
      ]
    },
    {
      "cell_type": "markdown",
      "metadata": {
        "id": "b06vXR24Mnzh"
      },
      "source": [
        "<hr>\n"
      ]
    },
    {
      "cell_type": "markdown",
      "metadata": {
        "id": "SMesY5EvMnzh"
      },
      "source": [
        "### Complex Networks\n",
        "\n",
        "**Obviously**, neural networks for real problems are composed of many hidden layers and many more nodes in each layer. So, we can't continue making predictions using this very inefficient approach of computing the weighted sum at each node and the activation of each node manually.\n"
      ]
    },
    {
      "cell_type": "markdown",
      "metadata": {
        "id": "pnYggCSzMnzi"
      },
      "source": [
        "In order to code an automatic way of making predictions, let's generalize our network. A general network would take $n$ inputs, would have many hidden layers, each hidden layer having $m$ nodes, and would have an output layer. Although the network is showing one hidden layer, but we will code the network to have many hidden layers. Similarly, although the network shows an output layer with one node, we will code the network to have more than one node in the output layer.\n"
      ]
    },
    {
      "cell_type": "markdown",
      "metadata": {
        "id": "YL6rVvrXMnzi"
      },
      "source": [
        "<img src=\"http://cocl.us/general_neural_network\" alt=\"Neural Network General\" width=\"600px\">\n"
      ]
    },
    {
      "cell_type": "markdown",
      "metadata": {
        "id": "Sw7hg2fMMnzj"
      },
      "source": [
        "#Initialize a Network"
      ]
    },
    {
      "cell_type": "markdown",
      "metadata": {
        "id": "03CDHyBAMnzj"
      },
      "source": [
        "Let's start by formally defining the structure of the network.\n"
      ]
    },
    {
      "cell_type": "code",
      "execution_count": null,
      "metadata": {
        "id": "DUBvNe21Mnzj"
      },
      "outputs": [],
      "source": [
        "# number of Inputs\n",
        "n = 2\n",
        "\n",
        "# number of Hidden Layers\n",
        "num_hidden_layers = 2\n",
        "\n",
        "# number of Nodes in each Hidden Layer\n",
        "m = [2, 2]\n",
        "\n",
        "# number of Nodes in the Output Layer\n",
        "num_nodes_output = 1"
      ]
    },
    {
      "cell_type": "markdown",
      "metadata": {
        "id": "QC-xMuzoMnzk"
      },
      "source": [
        "Now that we defined the structure of the network, let's go ahead and inititailize the weights and the biases in the network to random numbers. In order to be able to initialize the weights and the biases to random numbers, we will need to import the **Numpy** library.\n"
      ]
    },
    {
      "cell_type": "code",
      "execution_count": null,
      "metadata": {
        "colab": {
          "base_uri": "https://localhost:8080/"
        },
        "id": "7GZ0B3xgMnzk",
        "outputId": "2bb74fa7-25c1-4151-f29e-39f6b97c0efc"
      },
      "outputs": [
        {
          "output_type": "stream",
          "name": "stdout",
          "text": [
            "{'layer_1': {'node_1': {'weights': array([0.05, 0.6 ]), 'bias': array([0.1])}, 'node_2': {'weights': array([0.41, 0.15]), 'bias': array([0.21])}}, 'layer_2': {'node_1': {'weights': array([0.08, 0.02]), 'bias': array([0.54])}, 'node_2': {'weights': array([0.16, 0.28]), 'bias': array([0.53])}}, 'output': {'node_1': {'weights': array([0.97, 0.8 ]), 'bias': array([0.53])}}}\n"
          ]
        }
      ],
      "source": [
        "import numpy as np # import the Numpy library\n",
        "\n",
        "# number of Nodes in the previous layer\n",
        "num_nodes_previous = n\n",
        "\n",
        "# initialize network an an empty dictionary\n",
        "network = {}\n",
        "\n",
        "# loop through each layer and randomly initialize the weights and biases associated with each node\n",
        "# notice how we are adding 1 to the number of hidden layers in order to include the output layer\n",
        "for layer in range(num_hidden_layers + 1):\n",
        "\n",
        "    # determine name of layer\n",
        "    if layer == num_hidden_layers:\n",
        "        layer_name = 'output'\n",
        "        num_nodes = num_nodes_output\n",
        "    else:\n",
        "        layer_name = 'layer_{}'.format(layer + 1)\n",
        "        num_nodes = m[layer]\n",
        "\n",
        "    # initialize weights and biases associated with each node in the current layer\n",
        "    network[layer_name] = {}\n",
        "    for node in range(num_nodes):\n",
        "        node_name = 'node_{}'.format(node+1)\n",
        "        network[layer_name][node_name] = {\n",
        "            'weights': np.around(np.random.uniform(size=num_nodes_previous), decimals=2),\n",
        "            'bias': np.around(np.random.uniform(size=1), decimals=2),\n",
        "        }\n",
        "\n",
        "    num_nodes_previous = num_nodes\n",
        "\n",
        "print(network) # print network"
      ]
    },
    {
      "cell_type": "markdown",
      "metadata": {
        "id": "B8PYND7JMnzl"
      },
      "source": [
        "Awesome! So now with the above code, we are able to initialize the weights and the biases pertaining to any network of any number of hidden layers and number of nodes in each layer. But let's put this code in a function so that we are able to repetitively execute all this code whenever we want to construct a neural network.\n"
      ]
    },
    {
      "cell_type": "code",
      "execution_count": null,
      "metadata": {
        "id": "KEqheq33Mnzl"
      },
      "outputs": [],
      "source": [
        "def initialize_network(num_inputs, num_hidden_layers, num_nodes_hidden, num_nodes_output):\n",
        "\n",
        "      # number of nodes in the previous layer\n",
        "    num_nodes_previous = num_inputs\n",
        "\n",
        "    network = {}\n",
        "\n",
        "    # loop through each layer and randomly initialize the weights and biases associated with each layer\n",
        "    for layer in range(num_hidden_layers + 1):\n",
        "\n",
        "        if layer == num_hidden_layers:\n",
        "            layer_name = 'output' # name last layer in the network output\n",
        "            num_nodes = num_nodes_output\n",
        "        else:\n",
        "            layer_name = 'layer_{}'.format(layer + 1) # otherwise give the layer a number\n",
        "            num_nodes = num_nodes_hidden[layer]\n",
        "\n",
        "        # initialize weights and bias for each node\n",
        "        network[layer_name] = {}\n",
        "        for node in range(num_nodes):\n",
        "            node_name = 'node_{}'.format(node+1)\n",
        "            network[layer_name][node_name] = {\n",
        "                'weights': np.around(np.random.uniform(size=num_nodes_previous), decimals=2),\n",
        "                'bias': np.around(np.random.uniform(size=1), decimals=2),\n",
        "            }\n",
        "\n",
        "        num_nodes_previous = num_nodes\n",
        "\n",
        "    return network # return the network"
      ]
    },
    {
      "cell_type": "markdown",
      "metadata": {
        "id": "Y6Kf8dSmMnzl"
      },
      "source": [
        "#### Use the *initialize_network* function to create a network that:\n",
        "\n",
        "1. takes 5 inputs\n",
        "2. has three hidden layers\n",
        "3. has 3 nodes in the first layer, 2 nodes in the second layer, and 3 nodes in the third layer\n",
        "4. has 1 node in the output layer\n",
        "\n",
        "Call the network **small_network**.\n"
      ]
    },
    {
      "cell_type": "code",
      "execution_count": null,
      "metadata": {
        "id": "nBEPlfNmMnzm"
      },
      "outputs": [],
      "source": [
        "small_network = initialize_network(5, 3, [3, 2, 3], 1)"
      ]
    },
    {
      "cell_type": "markdown",
      "metadata": {
        "id": "DdkfNHYxMnzm"
      },
      "source": [
        "<a id=\"item3\"></a>\n"
      ]
    },
    {
      "cell_type": "markdown",
      "metadata": {
        "id": "HzahRn7lMnzn"
      },
      "source": [
        "<a id='item13'></a>\n"
      ]
    },
    {
      "cell_type": "markdown",
      "metadata": {
        "id": "EIV_GTwQMnzn"
      },
      "source": [
        "## Compute Weighted Sum at Each Node\n"
      ]
    },
    {
      "cell_type": "markdown",
      "metadata": {
        "id": "811exWrGMnzn"
      },
      "source": [
        "The weighted sum at each node is computed as the dot product of the inputs and the weights plus the bias. So let's create a function called *compute_weighted_sum* that does just that.\n"
      ]
    },
    {
      "cell_type": "code",
      "execution_count": null,
      "metadata": {
        "id": "HaXdVqWMMnzn"
      },
      "outputs": [],
      "source": [
        "def compute_weighted_sum(inputs, weights, bias):\n",
        "    return np.sum(inputs * weights) + bias"
      ]
    },
    {
      "cell_type": "markdown",
      "metadata": {
        "id": "pOk-PQpzMnzo"
      },
      "source": [
        "Let's generate 5 inputs that we can feed to **small_network**.\n"
      ]
    },
    {
      "cell_type": "code",
      "execution_count": null,
      "metadata": {
        "colab": {
          "base_uri": "https://localhost:8080/"
        },
        "id": "5tAZ8DQxMnzo",
        "outputId": "dd120966-a1c6-43f1-ecb2-265a16a23475"
      },
      "outputs": [
        {
          "output_type": "stream",
          "name": "stdout",
          "text": [
            "The inputs to the network are [0.15 0.74 0.26 0.53 0.01]\n"
          ]
        }
      ],
      "source": [
        "from random import seed\n",
        "import numpy as np\n",
        "\n",
        "np.random.seed(12)\n",
        "inputs = np.around(np.random.uniform(size=5), decimals=2)\n",
        "\n",
        "print('The inputs to the network are {}'.format(inputs))"
      ]
    },
    {
      "cell_type": "markdown",
      "metadata": {
        "id": "ZULnnYpzMnzo"
      },
      "source": [
        "#### Use the *compute_weighted_sum* function to compute the weighted sum at the first node in the first hidden layer.\n"
      ]
    },
    {
      "cell_type": "code",
      "execution_count": null,
      "metadata": {
        "colab": {
          "base_uri": "https://localhost:8080/"
        },
        "id": "ZEXh2z6rMnzp",
        "outputId": "6e8df619-6823-47f0-b0ca-933394cda3cc"
      },
      "outputs": [
        {
          "output_type": "stream",
          "name": "stdout",
          "text": [
            "The weighted sum at the first node in the hidden layer is 1.375\n"
          ]
        }
      ],
      "source": [
        "node_weights = small_network['layer_1']['node_1']['weights']\n",
        "node_bias = small_network['layer_1']['node_1']['bias']\n",
        "\n",
        "weighted_sum = compute_weighted_sum(inputs, node_weights, node_bias)\n",
        "print('The weighted sum at the first node in the hidden layer is {}'.format(np.around(weighted_sum[0], decimals=4)))"
      ]
    },
    {
      "cell_type": "markdown",
      "metadata": {
        "id": "pWSvxKJqMnzq"
      },
      "source": [
        "<a id='item14'></a>\n"
      ]
    },
    {
      "cell_type": "markdown",
      "metadata": {
        "id": "CPglaifBMnzq"
      },
      "source": [
        "## Compute Node Activation\n"
      ]
    },
    {
      "cell_type": "markdown",
      "metadata": {
        "id": "sr5b-tUOMnzq"
      },
      "source": [
        "Recall that the output of each node is simply a non-linear tranformation of the weighted sum. We use activation functions for this mapping. Let's use the sigmoid function as the activation function here. So let's define a function that takes a weighted sum as input and returns the non-linear transformation of the input using the sigmoid function.\n"
      ]
    },
    {
      "cell_type": "code",
      "execution_count": null,
      "metadata": {
        "id": "QRgBsbfnMnzr"
      },
      "outputs": [],
      "source": [
        "def node_activation(weighted_sum):\n",
        "    return 1.0 / (1.0 + np.exp(-1 * weighted_sum))"
      ]
    },
    {
      "cell_type": "markdown",
      "metadata": {
        "id": "_8KE9tDxMnzr"
      },
      "source": [
        "#### Use the *node_activation* function to compute the output of the first node in the first hidden layer.\n"
      ]
    },
    {
      "cell_type": "code",
      "execution_count": null,
      "metadata": {
        "id": "bj2PxbnfMnzs"
      },
      "outputs": [],
      "source": [
        "node_output  = node_activation(compute_weighted_sum(inputs, node_weights, node_bias))\n",
        "print('The output of the first node in the hidden layer is {}'.format(np.around(node_output[0], decimals=4)))"
      ]
    },
    {
      "cell_type": "markdown",
      "metadata": {
        "id": "lnC3ZmMDMnzt"
      },
      "source": [
        "<a id='item15'></a>\n"
      ]
    },
    {
      "cell_type": "markdown",
      "metadata": {
        "id": "5pQ9Kn-OMnzu"
      },
      "source": [
        "## Forward Propagation\n"
      ]
    },
    {
      "cell_type": "markdown",
      "metadata": {
        "id": "coKTzhoTMnzu"
      },
      "source": [
        "The final piece of building a neural network that can perform predictions is to put everything together. So let's create a function that applies the *compute_weighted_sum* and *node_activation* functions to each node in the network and propagates the data all the way to the output layer and outputs a prediction for each node in the output layer.\n"
      ]
    },
    {
      "cell_type": "markdown",
      "metadata": {
        "id": "U5fqyfW0Mnzu"
      },
      "source": [
        "The way we are going to accomplish this is through the following procedure:\n",
        "\n",
        "1. Start with the input layer as the input to the first hidden layer.\n",
        "2. Compute the weighted sum at the nodes of the current layer.\n",
        "3. Compute the output of the nodes of the current layer.\n",
        "4. Set the output of the current layer to be the input to the next layer.\n",
        "5. Move to the next layer in the network.\n",
        "5. Repeat steps 2 - 4 until we compute the output of the output layer.\n"
      ]
    },
    {
      "cell_type": "code",
      "execution_count": null,
      "metadata": {
        "id": "THkS5sZ-Mnzv"
      },
      "outputs": [],
      "source": [
        "def forward_propagate(network, inputs):\n",
        "\n",
        "    layer_inputs = list(inputs) # start with the input layer as the input to the first hidden layer\n",
        "\n",
        "    for layer in network:\n",
        "\n",
        "        layer_data = network[layer]\n",
        "\n",
        "        layer_outputs = []\n",
        "        for layer_node in layer_data:\n",
        "\n",
        "            node_data = layer_data[layer_node]\n",
        "\n",
        "            # compute the weighted sum and the output of each node at the same time\n",
        "            node_output = node_activation(compute_weighted_sum(layer_inputs, node_data['weights'], node_data['bias']))\n",
        "            layer_outputs.append(np.around(node_output[0], decimals=4))\n",
        "\n",
        "        if layer != 'output':\n",
        "            print('The outputs of the nodes in hidden layer number {} is {}'.format(layer.split('_')[1], layer_outputs))\n",
        "\n",
        "        layer_inputs = layer_outputs # set the output of this layer to be the input to next layer\n",
        "\n",
        "    network_predictions = layer_outputs\n",
        "    return network_predictions"
      ]
    },
    {
      "cell_type": "markdown",
      "metadata": {
        "id": "bCVsTZ5gMnzv"
      },
      "source": [
        "#### Use the *forward_propagate* function to compute the prediction of our small network\n"
      ]
    },
    {
      "cell_type": "code",
      "execution_count": null,
      "metadata": {
        "id": "lHkwUMyZMnzv"
      },
      "outputs": [],
      "source": [
        "predictions = forward_propagate(small_network, inputs)\n",
        "print('The predicted value by the network for the given input is {}'.format(np.around(predictions[0], decimals=4)))"
      ]
    },
    {
      "cell_type": "markdown",
      "metadata": {
        "id": "-7j3Rw1AMnzw"
      },
      "source": [
        "So we built the code to define a neural network. We can specify the number of inputs that a neural network can take, the number of hidden layers as well as the number of nodes in each hidden layer, and the number of nodes in the output layer.\n"
      ]
    },
    {
      "cell_type": "markdown",
      "metadata": {
        "id": "DdeMpMd-Mnzw"
      },
      "source": [
        "We first use the *initialize_network* to create our neural network and define its weights and biases.\n"
      ]
    },
    {
      "cell_type": "code",
      "execution_count": null,
      "metadata": {
        "id": "uNqUTyt9Mnzx"
      },
      "outputs": [],
      "source": [
        "my_network = initialize_network(5, 3, [2, 3, 2], 3)"
      ]
    },
    {
      "cell_type": "markdown",
      "metadata": {
        "id": "2Txg885KMnzx"
      },
      "source": [
        "Then, for a given input,\n"
      ]
    },
    {
      "cell_type": "code",
      "execution_count": null,
      "metadata": {
        "id": "q2aLF2llMnzx"
      },
      "outputs": [],
      "source": [
        "inputs = np.around(np.random.uniform(size=5), decimals=2)"
      ]
    },
    {
      "cell_type": "markdown",
      "metadata": {
        "id": "EH1ee_OpMnzx"
      },
      "source": [
        "we compute the network predictions.\n"
      ]
    },
    {
      "cell_type": "code",
      "execution_count": null,
      "metadata": {
        "id": "qCBXB5fTMnzy"
      },
      "outputs": [],
      "source": [
        "predictions = forward_propagate(my_network, inputs)\n",
        "print('The predicted values by the network for the given input are {}'.format(predictions))"
      ]
    }
  ],
  "metadata": {
    "kernelspec": {
      "display_name": "Python",
      "language": "python",
      "name": "conda-env-python-py"
    },
    "language_info": {
      "codemirror_mode": {
        "name": "ipython",
        "version": 3
      },
      "file_extension": ".py",
      "mimetype": "text/x-python",
      "name": "python",
      "nbconvert_exporter": "python",
      "pygments_lexer": "ipython3",
      "version": "3.7.12"
    },
    "colab": {
      "provenance": []
    }
  },
  "nbformat": 4,
  "nbformat_minor": 0
}